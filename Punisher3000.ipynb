{
 "cells": [
  {
   "cell_type": "code",
   "execution_count": 1,
   "metadata": {},
   "outputs": [],
   "source": [
    "import time"
   ]
  },
  {
   "cell_type": "markdown",
   "metadata": {},
   "source": [
    "Робит, но если запустить всё заспамит"
   ]
  },
  {
   "cell_type": "code",
   "execution_count": 10,
   "metadata": {},
   "outputs": [],
   "source": [
    "from pyrogram import Client, Filters\n",
    "from pyrogram.api import functions\n",
    "\n",
    "names = []\n",
    "times = []\n",
    "not_sleepers = set()\n",
    "app = Client(\n",
    "    \"my_account\",\n",
    "    api_id =534242,\n",
    "    api_hash = '9e96231d71a77868139e0d3df1fa7b28'\n",
    ")\n"
   ]
  },
  {
   "cell_type": "markdown",
   "metadata": {},
   "source": [
    "Отправляю голосовуху"
   ]
  },
  {
   "cell_type": "code",
   "execution_count": 24,
   "metadata": {},
   "outputs": [],
   "source": [
    "with app:\n",
    "    app.send_voice('test_chan111','C:\\\\Users\\\\Denis\\\\cool_proj\\\\audio\\\\voice3.ogg')"
   ]
  },
  {
   "cell_type": "code",
   "execution_count": 15,
   "metadata": {
    "scrolled": true
   },
   "outputs": [
    {
     "name": "stdout",
     "output_type": "stream",
     "text": [
      "@communistyan\n",
      "11:4\n",
      "@GRiRoman\n",
      "11:2\n",
      "@Stamaks\n",
      "11:3\n",
      "@za1ge\n",
      "11:3\n",
      "@Yur3k\n",
      "11:5\n",
      "@KorzhTim\n",
      "11:2\n",
      "@VSPZDK\n",
      "11:11\n"
     ]
    }
   ],
   "source": [
    "#while True:\n",
    "not_sleepers = set()\n",
    "\n",
    "with app:\n",
    "    members = app.iter_chat_members('test_chan111')\n",
    "    mems = [mem for mem in members]\n",
    "    for member in mems:\n",
    "        user = member.user\n",
    "        #print(user.status)\n",
    "        #names.append(user.first_name+' '+user.last_name)\n",
    "        if (user.status.date>1563782400):\n",
    "            not_sleepers.add(user.username)\n",
    "            username = '@'+user.username\n",
    "            print(username)\n",
    "            t = (user.status.date+3*3600)%86400\n",
    "            timern = str(t//3600)+':'+str((t%3600)//60) \n",
    "            print(timern)\n",
    "            app.send_message('test_chan111', username + \" не спит в \" + timern)\n",
    "        if (user.status.online):\n",
    "            app.send_message(user.username, \"[BOT] \"+user.first_name+\" \"+user.last_name+\" cпать пора, все дела\")\n",
    "            not_sleepers.add(user.username)\n",
    "    #time.sleep(120)\n",
    "    #times.append(user.status.date)\n",
    "#     res = app.send(\n",
    "#         functions.contacts.GetStatuses()\n",
    "#     )"
   ]
  },
  {
   "cell_type": "code",
   "execution_count": 5,
   "metadata": {},
   "outputs": [
    {
     "data": {
      "text/plain": [
       "{'VSPZDK', 'Yur3k'}"
      ]
     },
     "execution_count": 5,
     "metadata": {},
     "output_type": "execute_result"
    }
   ],
   "source": [
    "not_sleepers"
   ]
  },
  {
   "cell_type": "code",
   "execution_count": 14,
   "metadata": {},
   "outputs": [
    {
     "data": {
      "text/plain": [
       "1563782400"
      ]
     },
     "execution_count": 14,
     "metadata": {},
     "output_type": "execute_result"
    }
   ],
   "source": [
    "user.status.date//3600*3600"
   ]
  },
  {
   "cell_type": "code",
   "execution_count": null,
   "metadata": {},
   "outputs": [],
   "source": []
  }
 ],
 "metadata": {
  "kernelspec": {
   "display_name": "Python 3",
   "language": "python",
   "name": "python3"
  },
  "language_info": {
   "codemirror_mode": {
    "name": "ipython",
    "version": 3
   },
   "file_extension": ".py",
   "mimetype": "text/x-python",
   "name": "python",
   "nbconvert_exporter": "python",
   "pygments_lexer": "ipython3",
   "version": "3.7.3"
  }
 },
 "nbformat": 4,
 "nbformat_minor": 2
}
