{
 "cells": [
  {
   "cell_type": "code",
   "execution_count": 11,
   "metadata": {},
   "outputs": [],
   "source": [
    "import time\n",
    "import random\n",
    "from datetime import datetime"
   ]
  },
  {
   "cell_type": "markdown",
   "metadata": {},
   "source": [
    "Робит, но если запустить всё заспамит"
   ]
  },
  {
   "cell_type": "code",
   "execution_count": 2,
   "metadata": {},
   "outputs": [
    {
     "name": "stderr",
     "output_type": "stream",
     "text": [
      "TgCrypto is missing! Pyrogram will work the same, but at a much slower speed. More info: https://docs.pyrogram.org/topics/tgcrypto\n"
     ]
    }
   ],
   "source": [
    "from pyrogram import Client, Filters\n",
    "from pyrogram.api import functions\n",
    "\n",
    "names = []\n",
    "times = []\n",
    "not_sleepers = set()\n",
    "app = Client(\n",
    "    \"my_account\",\n",
    "    api_id =534242,\n",
    "    api_hash = '9e96231d71a77868139e0d3df1fa7b28'\n",
    ")\n"
   ]
  },
  {
   "cell_type": "markdown",
   "metadata": {},
   "source": [
    "Отправляю голосовуху"
   ]
  },
  {
   "cell_type": "code",
   "execution_count": 24,
   "metadata": {},
   "outputs": [],
   "source": [
    "with app:\n",
    "    app.send_voice('test_chan111','C:\\\\Users\\\\Denis\\\\cool_proj\\\\audio\\\\voice0.ogg')"
   ]
  },
  {
   "cell_type": "markdown",
   "metadata": {},
   "source": [
    "сейчас он напишет в админку сообщение про каждого человека, людям онлайн напишет про то, что требуется спать\n",
    "если дважды игнорировать просьбу спать, присылает сообщение в админку"
   ]
  },
  {
   "cell_type": "code",
   "execution_count": null,
   "metadata": {},
   "outputs": [],
   "source": [
    "timelimitlow = 13*3600+40*60\n",
    "timelimithigh = 15*3600+40*60\n",
    "# timelimitlow = 1*3600 #1:00 глубокий отбой - всем спать\n",
    "# timelimithigh = 6*3600+30*60 #6:30 - раннее когда можно вставать\n",
    "not_sleepers = set()\n",
    "notified_not_sleepers = set()\n",
    "doublenotified_not_sleepers = set()\n",
    "\n",
    "gosleep = ['слыш спать пж', 'лично мне поспать', 'S P A T b']\n",
    "\n",
    "app = Client(\n",
    "    'my_account',\n",
    "    api_id =534242,\n",
    "    api_hash = '9e96231d71a77868139e0d3df1fa7b28'\n",
    ")\n",
    "\n",
    "#while True:\n",
    "for _ in range(3):\n",
    "    with app:\n",
    "        members = [m for m in app.iter_chat_members('test_chan111')] #get users\n",
    "        for member in members: \n",
    "            user = member.user\n",
    "            if user.is_bot:\n",
    "                continue\n",
    "            last_active = (user.status.date+3*3600)%86400 #последний заход/онлайн. перевод в часы\n",
    "            if(last_active>timelimitlow)&(last_active<timelimithigh):\n",
    "                if user.username not in not_sleepers: #пишет оргам\n",
    "                    not_sleepers.add(user.username)\n",
    "                    app.send_message('admkka', '@'+user.username+' не спит в '+ str(datetime.utcfromtimestamp(user.status.date+3*3600-5*60).strftime('%H:%M'))) #вычитаю 5 минут потому что телеграм странно себя ведет\n",
    "                if(user.status.online): #пишет людям\n",
    "                    if user.username not in doublenotified_not_sleepers:\n",
    "                        if user.username not in notified_not_sleepers:\n",
    "                            notified_not_sleepers.add(user.username)\n",
    "                        else:\n",
    "                            doublenotified_not_sleepers.add(user.username)\n",
    "                        app.send_message(user.username, random.choice(gosleep)) #здесь типа смешной мем из списка\n",
    "                    else:\n",
    "                        app.send_message('admkka', '@'+user.username+' совсем не спит даже после предупреждений')\n",
    "        print(not_sleepers)\n",
    "        print(notified_not_sleepers)\n",
    "        print(doublenotified_not_sleepers)\n",
    "        print()\n",
    "        time.sleep(5)\n",
    "        \n",
    "print('a')"
   ]
  }
 ],
 "metadata": {
  "kernelspec": {
   "display_name": "Python 3",
   "language": "python",
   "name": "python3"
  }
 },
 "nbformat": 4,
 "nbformat_minor": 2
}
