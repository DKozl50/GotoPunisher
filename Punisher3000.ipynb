{
 "cells": [
  {
   "cell_type": "code",
   "execution_count": 87,
   "metadata": {},
   "outputs": [],
   "source": [
    "from pyrogram import Client\n",
    "import pyrogram\n",
    "app = TelegramClient(\n",
    "    \"my_account\",\n",
    "    api_id=534242,\n",
    "    api_hash=\"9e96231d71a77868139e0d3df1fa7b28\"\n",
    ")"
   ]
  },
  {
   "cell_type": "code",
   "execution_count": 29,
   "metadata": {},
   "outputs": [],
   "source": [
    "from pyrogram import Client, Filters\n",
    "\n",
    "\n",
    "\n",
    "@app.on_message(Filters.text & Filters.private)\n",
    "def echo(client, message):\n",
    "    message.reply(message.text)\n",
    "\n",
    "\n",
    "app.run()  # Automatically start() and idle()"
   ]
  },
  {
   "cell_type": "code",
   "execution_count": 91,
   "metadata": {},
   "outputs": [],
   "source": [
    "from pyrogram import Client\n",
    "from pyrogram.api import functions\n",
    "\n",
    "names = []\n",
    "times = []\n",
    "\n",
    "app = Client(\n",
    "    \"my_account\",\n",
    "    api_id=534242,\n",
    "    api_hash=\"9e96231d71a77868139e0d3df1fa7b28\"\n",
    ")\n",
    "\n",
    "with app:\n",
    "    members = app.iter_chat_members('test_chan111')\n",
    "    mems = [mem for mem in members]\n",
    "    for member in mems:\n",
    "        user = member.user\n",
    "        names.append(user.first_name+' '+user.last_name)\n",
    "        times.append(user.status.date)\n",
    "#     res = app.send(\n",
    "#         functions.contacts.GetStatuses()\n",
    "#     )"
   ]
  },
  {
   "cell_type": "code",
   "execution_count": 98,
   "metadata": {},
   "outputs": [
    {
     "name": "stderr",
     "output_type": "stream",
     "text": [
      "C:\\Users\\Denis\\Anaconda3\\lib\\site-packages\\ipykernel_launcher.py:10: RuntimeWarning: coroutine 'AuthMethods._start' was never awaited\n",
      "  # Remove the CWD from sys.path while we load stuff.\n",
      "RuntimeWarning: Enable tracemalloc to get the object allocation traceback\n"
     ]
    },
    {
     "ename": "AttributeError",
     "evalue": "'coroutine' object has no attribute 'get_participants'",
     "output_type": "error",
     "traceback": [
      "\u001b[1;31m---------------------------------------------------------------------------\u001b[0m",
      "\u001b[1;31mAttributeError\u001b[0m                            Traceback (most recent call last)",
      "\u001b[1;32m<ipython-input-98-5d7159408f5b>\u001b[0m in \u001b[0;36m<module>\u001b[1;34m\u001b[0m\n\u001b[0;32m     12\u001b[0m \u001b[1;33m\u001b[0m\u001b[0m\n\u001b[0;32m     13\u001b[0m \u001b[1;33m\u001b[0m\u001b[0m\n\u001b[1;32m---> 14\u001b[1;33m \u001b[1;32mfor\u001b[0m \u001b[0mmember\u001b[0m \u001b[1;32min\u001b[0m \u001b[0mapp\u001b[0m\u001b[1;33m.\u001b[0m\u001b[0mget_participants\u001b[0m\u001b[1;33m(\u001b[0m\u001b[1;34m'gotojuly19'\u001b[0m\u001b[1;33m)\u001b[0m\u001b[1;33m:\u001b[0m\u001b[1;33m\u001b[0m\u001b[1;33m\u001b[0m\u001b[0m\n\u001b[0m\u001b[0;32m     15\u001b[0m         \u001b[0muser\u001b[0m \u001b[1;33m=\u001b[0m \u001b[0mmember\u001b[0m\u001b[1;33m.\u001b[0m\u001b[0muser\u001b[0m\u001b[1;33m\u001b[0m\u001b[1;33m\u001b[0m\u001b[0m\n\u001b[0;32m     16\u001b[0m         \u001b[0mnames\u001b[0m\u001b[1;33m.\u001b[0m\u001b[0mappend\u001b[0m\u001b[1;33m(\u001b[0m\u001b[0muser\u001b[0m\u001b[1;33m.\u001b[0m\u001b[0mfirst_name\u001b[0m\u001b[1;33m+\u001b[0m\u001b[1;34m' '\u001b[0m\u001b[1;33m+\u001b[0m\u001b[0muser\u001b[0m\u001b[1;33m.\u001b[0m\u001b[0mlast_name\u001b[0m\u001b[1;33m)\u001b[0m\u001b[1;33m\u001b[0m\u001b[1;33m\u001b[0m\u001b[0m\n",
      "\u001b[1;31mAttributeError\u001b[0m: 'coroutine' object has no attribute 'get_participants'"
     ]
    }
   ],
   "source": [
    "#не робит \n",
    "from pyrogram import Client\n",
    "from pyrogram.api import functions\n",
    "\n",
    "names = []\n",
    "times = []\n",
    "\n",
    "app = TelegramClient(\n",
    "    None,\n",
    "    api_id=534242,\n",
    "    api_hash=\"9e96231d71a77868139e0d3df1fa7b28\"\n",
    ").start()\n",
    "\n",
    "\n",
    "for member in app.get_participants('gotojuly19'):\n",
    "        user = member.user\n",
    "        names.append(user.first_name+' '+user.last_name)\n",
    "        times.append(user.status.date)\n",
    "#     res = app.send(\n",
    "#         functions.contacts.GetStatuses()\n",
    "#     )"
   ]
  },
  {
   "cell_type": "code",
   "execution_count": 85,
   "metadata": {},
   "outputs": [
    {
     "name": "stdout",
     "output_type": "stream",
     "text": [
      "['Алена Есенина', 'George Zasimov', 'Fedya lol', 'Timofey Korzhebin', 'Denis Kozlov']\n",
      "[1563744792, 1563740225, 1563744603, 1563744808, 1563744888]\n"
     ]
    }
   ],
   "source": [
    "print(names)\n",
    "print(times)"
   ]
  }
 ],
 "metadata": {
  "kernelspec": {
   "display_name": "Python 3",
   "language": "python",
   "name": "python3"
  },
  "language_info": {
   "codemirror_mode": {
    "name": "ipython",
    "version": 3
   },
   "file_extension": ".py",
   "mimetype": "text/x-python",
   "name": "python",
   "nbconvert_exporter": "python",
   "pygments_lexer": "ipython3",
   "version": "3.7.3"
  }
 },
 "nbformat": 4,
 "nbformat_minor": 2
}
