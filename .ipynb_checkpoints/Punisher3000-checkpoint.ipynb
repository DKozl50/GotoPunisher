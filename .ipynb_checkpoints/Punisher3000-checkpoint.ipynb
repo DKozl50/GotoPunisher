{
 "cells": [
  {
   "cell_type": "code",
   "execution_count": 15,
   "metadata": {},
   "outputs": [],
   "source": [
    "import time"
   ]
  },
  {
   "cell_type": "markdown",
   "metadata": {},
   "source": [
    "Робит, но если запустить всё заспамит"
   ]
  },
  {
   "cell_type": "code",
   "execution_count": 39,
   "metadata": {},
   "outputs": [],
   "source": [
    "from pyrogram import Client\n",
    "from pyrogram.api import functions\n",
    "\n",
    "names = []\n",
    "times = []\n",
    "not_sleepers = set()\n",
    "app = Client(\n",
    "    \"my_account\",\n",
    "    api_id = 713546,\n",
    "    api_hash = '44ec7017cb18b02ffbae9a618508b30f'\n",
    ")\n"
   ]
  },
  {
   "cell_type": "code",
   "execution_count": null,
   "metadata": {
    "scrolled": true
   },
   "outputs": [],
   "source": [
    "while True:\n",
    "    with app:\n",
    "        members = app.iter_chat_members('test_chan111')\n",
    "        mems = [mem for mem in members]\n",
    "        for member in mems:\n",
    "            user = member.user\n",
    "        #print(user.status)\n",
    "        #names.append(user.first_name+' '+user.last_name)\n",
    "            if (user.status.online ):\n",
    "                print(user.first_name)\n",
    "                app.send_message(user.username, \"[BOT] Спать пора, все дела\")\n",
    "                #not_sleepers.add(user.username)\n",
    "        time.sleep(120)\n",
    "        #times.append(user.status.date)\n",
    "#     res = app.send(\n",
    "#         functions.contacts.GetStatuses()\n",
    "#     )"
   ]
  },
  {
   "cell_type": "code",
   "execution_count": null,
   "metadata": {},
   "outputs": [],
   "source": []
  }
 ],
 "metadata": {
  "kernelspec": {
   "display_name": "Python 3",
   "language": "python",
   "name": "python3"
  },
  "language_info": {
   "codemirror_mode": {
    "name": "ipython",
    "version": 3
   },
   "file_extension": ".py",
   "mimetype": "text/x-python",
   "name": "python",
   "nbconvert_exporter": "python",
   "pygments_lexer": "ipython3",
   "version": "3.6.8"
  }
 },
 "nbformat": 4,
 "nbformat_minor": 2
}
